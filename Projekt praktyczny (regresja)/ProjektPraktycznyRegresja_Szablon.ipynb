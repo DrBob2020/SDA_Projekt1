{
 "cells": [
  {
   "cell_type": "markdown",
   "id": "a3da916d",
   "metadata": {},
   "source": [
    "# Podział na grupy"
   ]
  },
  {
   "cell_type": "markdown",
   "id": "34398378",
   "metadata": {},
   "source": [
    "# Zrozumienie i analiza problemu, który prezentują dane\n",
    "* Zapoznanie się z wybranym zestawem danych i opisem zadania do wykonania\n",
    "* Pobranie bazy danych na swój komputer\n",
    "* Zdefiniowanie co wiemy na dany temat \n",
    "* Efektem tego punktu powinien być krótki 1-2 stronicowy wstęp teoretyczny analizujący problem od strony biznesowej/merytorycznej"
   ]
  },
  {
   "cell_type": "code",
   "execution_count": 1,
   "id": "b423001e",
   "metadata": {},
   "outputs": [],
   "source": [
    "#libraries import\n",
    "import numpy as np\n",
    "import pandas as pd\n",
    "\n",
    "import scipy\n",
    "\n",
    "%matplotlib inline\n",
    "\n",
    "import matplotlib.pyplot as plt\n",
    "import seaborn as sns\n",
    "import plotnine as pn"
   ]
  },
  {
   "cell_type": "code",
   "execution_count": 3,
   "id": "ec87f889",
   "metadata": {},
   "outputs": [],
   "source": [
    "#import data\n",
    "epi = pd.read_csv(r\"Epicurious_Recipes_with_Rating_and_Nutrition\")"
   ]
  },
  {
   "cell_type": "code",
   "execution_count": null,
   "id": "c2dcac48",
   "metadata": {},
   "outputs": [],
   "source": [
    "# data view - what is included in file?\n",
    "epi.head()"
   ]
  },
  {
   "cell_type": "code",
   "execution_count": null,
   "id": "fc6b142f",
   "metadata": {},
   "outputs": [],
   "source": [
    "#the file include many columns which are not visible. To check\n",
    "# how many is empty; what are details, translation, what is the matrix size\n",
    "epi.info()"
   ]
  },
  {
   "cell_type": "markdown",
   "id": "b3fc6ee7",
   "metadata": {},
   "source": [
    "# Wstępne zapoznanie się z przedstawioną bazą danych\n",
    "* Zapoznanie się z pobraną bazą danych (podłączenie się do niej przez Pythona z użyciem znanych pakietów pandas, numpy)\n",
    "* Przygotowanie danych, a w tym:\n",
    "    * Podział na cechy numeryczne, kategoryczne\n",
    "    * Przygotowanie danych (pozbycie się lub transformacja wartości niekompletnych)\n",
    "    * Agregacja niezbędnych informacji\n",
    "    * Czyszczenie danych\n",
    "    * Transformacja, dyskretyzacja, skalowanie, grupowanie itp. – użyj to, czego dotyczy Twoje zagadnienie\n",
    "* Wyświetlenie podstawowych statystyk (średnia, odchylenie standardowe, mediana) przydatnych do analizy problemu"
   ]
  },
  {
   "cell_type": "code",
   "execution_count": null,
   "id": "7dd2648d",
   "metadata": {},
   "outputs": [],
   "source": []
  },
  {
   "cell_type": "markdown",
   "id": "7fd4e7dd",
   "metadata": {},
   "source": [
    "# Podsumowanie kroku 2. i 3. oraz dokładne opisanie i przedstawienie hipotez, które będą rozwiązywane\n",
    "* Zebranie wyników z punktu 3. i wiedzy z punktu 2.\n",
    "* Opis tego, co zamierzamy zrobić wykorzystując zdobyte informacje\n",
    "* Opis czego nie możemy zrobić na danej bazie danych z uwagi np. na brak informacji, zbyt dużo wartości odstających\n",
    "* Podanie kilku algorytmów/modeli uczenia maszynowego rozwiązujących problemy regresji, który będziemy chcieli użyć w tym projekcie"
   ]
  },
  {
   "cell_type": "code",
   "execution_count": null,
   "id": "75d7abe0",
   "metadata": {},
   "outputs": [],
   "source": []
  },
  {
   "cell_type": "markdown",
   "id": "40067c51",
   "metadata": {},
   "source": [
    "# Analiza, wizualizacja danych oraz przeprowadzenie analizy statystycznej w języku Python\n",
    "Skoro już wiemy co będziemy analizować musimy dokładniej opisać dane za pomocą:\n",
    "* Wykresów:\n",
    "   * Wykresy liniowe, histogramy opisujące zależności między pojedynczymi zmiennymi\n",
    "   * Wykresy opisujące zależności między zmiennymi (Q-Q plot, wykres punktów, mapy ciepła, wykresy słupkowe)\n",
    "   * Wykresy zmienności w czasie (wykres liniowy)\n",
    "   * Zaawansowana wizualizacja z wykorzystaniem plotly lub seaborn"
   ]
  },
  {
   "cell_type": "code",
   "execution_count": null,
   "id": "fbfeca6c",
   "metadata": {},
   "outputs": [],
   "source": []
  },
  {
   "cell_type": "markdown",
   "id": "deefd5c9",
   "metadata": {},
   "source": [
    "# Użycie i przetestowanie różnych algorytmów regresji do analizy problemów liniowych i nieliniowych\n",
    "* Wykorzystując wszystkie informacje dotyczące danego problemu, które zgromadziliśmy, a szczególnie opis danych z poprzedniego punktu, zaproponować 3 algorytmy które będą implementowane\n",
    "* Implementacja algorytmów regresji liniowej (1 i wielu zmiennych), wielomianowej oraz drzewa decyzyjnego\n",
    "* Zadbanie o minimalizację funkcji kosztu, jeżeli trzeba to z użyciem gradient descent lub innej wbudowanej funkcji w pakiecie sklearn\n",
    "* Wyświetlenie wartości funkcji kosztu na wykresie dla 10 i 20 iteracji oraz wag algorytmu\n",
    "* Predykcja algorytmu dla 3 losowych wartości spoza zbioru danych"
   ]
  },
  {
   "cell_type": "code",
   "execution_count": null,
   "id": "35903f7b",
   "metadata": {},
   "outputs": [],
   "source": []
  },
  {
   "cell_type": "markdown",
   "id": "c174a7bf",
   "metadata": {},
   "source": [
    "# Ocena działania algorytmu\n",
    "* Podział danych na zbiór treningowy i walidacyjny\n",
    "* Zastosowanie walidacji krzyżowej i leave-one-out (przetasować zbiór tak, aby \n",
    "zawsze zaczynać od innego miejsca w danych)\n",
    "* Ocenić skuteczność modeli (współczynnik determinacji, 2 metody błędu \n",
    "prognozy)\n",
    "* Rozwiązanie problemu z przetrenowaniem lub niedotrenowaniem algorytmu\n",
    "* Znalezienie złotego środka między obciążeniem a wariancją, najlepiej \n",
    "pokazując to na wykresie"
   ]
  },
  {
   "cell_type": "code",
   "execution_count": null,
   "id": "a5719f82",
   "metadata": {},
   "outputs": [],
   "source": []
  },
  {
   "cell_type": "markdown",
   "id": "dee20f47",
   "metadata": {},
   "source": [
    "## Wyjaśnienie dlaczego użyty został akurat \n",
    "ten algorytm\n",
    "* Wyciągając wnioski z poprzednich punktów opowiedzieć maksymalnie \n",
    "na 1-2 slajdach dlaczego użyliśmy akurat tego modelu, mając na \n",
    "uwadze:\n",
    "* problemy liniowe i nieliniowe\n",
    "* wpływ statystyk takich jak korelacja na zmienne\n",
    "* wartości odstające\n",
    "* wagi algorytmu\n",
    "* ocena skuteczności jego działania\n",
    "* zdolności predykcyjne"
   ]
  },
  {
   "cell_type": "code",
   "execution_count": null,
   "id": "d8349d0e",
   "metadata": {},
   "outputs": [],
   "source": []
  },
  {
   "cell_type": "markdown",
   "id": "c78bfc01",
   "metadata": {},
   "source": [
    "# Propozycja jego użycia\n",
    "* Maksymalnie na 1-2 slajdach odpowiedzieć na pytania:\n",
    "   * Jaki problem jesteśmy w stanie rozwiązać używając naszego algorytmu?\n",
    "   * Jak możemy go użyć? Z użyciem jakich narzędzi przekazywać komuś do \n",
    "   * użycia?\n",
    "   * Jak interpretować wyniki algorytmu?\n",
    "   * Jak interpretować wyniki skuteczności algorytmu?\n",
    "   * Jak możemy go ulepszyć w przyszłości?"
   ]
  },
  {
   "cell_type": "code",
   "execution_count": null,
   "id": "bd3b5633",
   "metadata": {},
   "outputs": [],
   "source": []
  },
  {
   "cell_type": "markdown",
   "id": "cbd69511",
   "metadata": {},
   "source": [
    "# PODSUMOWANIE\n",
    "1. Określenie trudności podczas pracy w zespole wirtualnym.\n",
    "2. Określenie, która część sprawiła najwięcej problemów.\n",
    "3. Wskazanie tematów, które wymagają uzupełnienia lub powtórzenia zagadnień.\n",
    "4. Czy sposób przeprowadzenia projektu rozwija uczestników i sprawia, że lepiej rozumieją problem, który poznawali na zajęciach?\n",
    "5. Czy sposób przeprowadzenia projektu może być pomocny przy przyszłych zagadnieniach"
   ]
  },
  {
   "cell_type": "code",
   "execution_count": null,
   "id": "bb6d8df4",
   "metadata": {},
   "outputs": [],
   "source": []
  }
 ],
 "metadata": {
  "kernelspec": {
   "display_name": "Python 3 (ipykernel)",
   "language": "python",
   "name": "python3"
  },
  "language_info": {
   "codemirror_mode": {
    "name": "ipython",
    "version": 3
   },
   "file_extension": ".py",
   "mimetype": "text/x-python",
   "name": "python",
   "nbconvert_exporter": "python",
   "pygments_lexer": "ipython3",
   "version": "3.10.4"
  },
  "toc": {
   "base_numbering": 1,
   "nav_menu": {},
   "number_sections": true,
   "sideBar": true,
   "skip_h1_title": false,
   "title_cell": "Table of Contents",
   "title_sidebar": "Contents",
   "toc_cell": false,
   "toc_position": {},
   "toc_section_display": true,
   "toc_window_display": true
  }
 },
 "nbformat": 4,
 "nbformat_minor": 5
}
