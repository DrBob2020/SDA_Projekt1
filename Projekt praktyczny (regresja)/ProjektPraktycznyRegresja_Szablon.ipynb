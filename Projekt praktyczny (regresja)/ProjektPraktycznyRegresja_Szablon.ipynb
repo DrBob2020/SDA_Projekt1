{
 "cells": [
  {
   "cell_type": "markdown",
   "id": "a3da916d",
   "metadata": {},
   "source": [
    "1. Podział na grupy"
   ]
  },
  {
   "cell_type": "markdown",
   "id": "34398378",
   "metadata": {},
   "source": [
    "2. Zrozumienie i analiza problemu, który prezentują dane\n",
    "• Zapoznanie się z wybranym zestawem danych i opisem zadania do wykonania\n",
    "• Pobranie bazy danych na swój komputer\n",
    "• Zdefiniowanie co wiemy na dany temat \n",
    "• Efektem tego punktu powinien być krótki 1-2 stronicowy wstęp teoretyczny analizujący problem od strony biznesowej/merytorycznej"
   ]
  },
  {
   "cell_type": "code",
   "execution_count": 8,
   "id": "b423001e",
   "metadata": {},
   "outputs": [],
   "source": [
    "#libraries import\n",
    "import numpy as np\n",
    "import pandas as pd\n",
    "import matplotlib.pyplot as plt\n",
    "#%matplotlib inline\n",
    "import seaborn as sns\n",
    "import plotnine as pn\n",
    "#import math as match\n",
    "#import random as md"
   ]
  },
  {
   "cell_type": "code",
   "execution_count": 9,
   "id": "ec87f889",
   "metadata": {},
   "outputs": [],
   "source": [
    "#import data\n",
    "epi = pd.read_csv(r\"C:\\Users\\krzys\\OneDrive\\Desktop\\SDA\\91_Projekt_praktyczny_Regresja\\epi_r.csv\")"
   ]
  },
  {
   "cell_type": "code",
   "execution_count": 6,
   "id": "c2dcac48",
   "metadata": {},
   "outputs": [
    {
     "data": {
      "text/html": [
       "<div>\n",
       "<style scoped>\n",
       "    .dataframe tbody tr th:only-of-type {\n",
       "        vertical-align: middle;\n",
       "    }\n",
       "\n",
       "    .dataframe tbody tr th {\n",
       "        vertical-align: top;\n",
       "    }\n",
       "\n",
       "    .dataframe thead th {\n",
       "        text-align: right;\n",
       "    }\n",
       "</style>\n",
       "<table border=\"1\" class=\"dataframe\">\n",
       "  <thead>\n",
       "    <tr style=\"text-align: right;\">\n",
       "      <th></th>\n",
       "      <th>title</th>\n",
       "      <th>rating</th>\n",
       "      <th>calories</th>\n",
       "      <th>protein</th>\n",
       "      <th>fat</th>\n",
       "      <th>sodium</th>\n",
       "      <th>#cakeweek</th>\n",
       "      <th>#wasteless</th>\n",
       "      <th>22-minute meals</th>\n",
       "      <th>3-ingredient recipes</th>\n",
       "      <th>...</th>\n",
       "      <th>yellow squash</th>\n",
       "      <th>yogurt</th>\n",
       "      <th>yonkers</th>\n",
       "      <th>yuca</th>\n",
       "      <th>zucchini</th>\n",
       "      <th>cookbooks</th>\n",
       "      <th>leftovers</th>\n",
       "      <th>snack</th>\n",
       "      <th>snack week</th>\n",
       "      <th>turkey</th>\n",
       "    </tr>\n",
       "  </thead>\n",
       "  <tbody>\n",
       "    <tr>\n",
       "      <th>0</th>\n",
       "      <td>Lentil, Apple, and Turkey Wrap</td>\n",
       "      <td>2.500</td>\n",
       "      <td>426.0</td>\n",
       "      <td>30.0</td>\n",
       "      <td>7.0</td>\n",
       "      <td>559.0</td>\n",
       "      <td>0.0</td>\n",
       "      <td>0.0</td>\n",
       "      <td>0.0</td>\n",
       "      <td>0.0</td>\n",
       "      <td>...</td>\n",
       "      <td>0.0</td>\n",
       "      <td>0.0</td>\n",
       "      <td>0.0</td>\n",
       "      <td>0.0</td>\n",
       "      <td>0.0</td>\n",
       "      <td>0.0</td>\n",
       "      <td>0.0</td>\n",
       "      <td>0.0</td>\n",
       "      <td>0.0</td>\n",
       "      <td>1.0</td>\n",
       "    </tr>\n",
       "    <tr>\n",
       "      <th>1</th>\n",
       "      <td>Boudin Blanc Terrine with Red Onion Confit</td>\n",
       "      <td>4.375</td>\n",
       "      <td>403.0</td>\n",
       "      <td>18.0</td>\n",
       "      <td>23.0</td>\n",
       "      <td>1439.0</td>\n",
       "      <td>0.0</td>\n",
       "      <td>0.0</td>\n",
       "      <td>0.0</td>\n",
       "      <td>0.0</td>\n",
       "      <td>...</td>\n",
       "      <td>0.0</td>\n",
       "      <td>0.0</td>\n",
       "      <td>0.0</td>\n",
       "      <td>0.0</td>\n",
       "      <td>0.0</td>\n",
       "      <td>0.0</td>\n",
       "      <td>0.0</td>\n",
       "      <td>0.0</td>\n",
       "      <td>0.0</td>\n",
       "      <td>0.0</td>\n",
       "    </tr>\n",
       "    <tr>\n",
       "      <th>2</th>\n",
       "      <td>Potato and Fennel Soup Hodge</td>\n",
       "      <td>3.750</td>\n",
       "      <td>165.0</td>\n",
       "      <td>6.0</td>\n",
       "      <td>7.0</td>\n",
       "      <td>165.0</td>\n",
       "      <td>0.0</td>\n",
       "      <td>0.0</td>\n",
       "      <td>0.0</td>\n",
       "      <td>0.0</td>\n",
       "      <td>...</td>\n",
       "      <td>0.0</td>\n",
       "      <td>0.0</td>\n",
       "      <td>0.0</td>\n",
       "      <td>0.0</td>\n",
       "      <td>0.0</td>\n",
       "      <td>0.0</td>\n",
       "      <td>0.0</td>\n",
       "      <td>0.0</td>\n",
       "      <td>0.0</td>\n",
       "      <td>0.0</td>\n",
       "    </tr>\n",
       "    <tr>\n",
       "      <th>3</th>\n",
       "      <td>Mahi-Mahi in Tomato Olive Sauce</td>\n",
       "      <td>5.000</td>\n",
       "      <td>NaN</td>\n",
       "      <td>NaN</td>\n",
       "      <td>NaN</td>\n",
       "      <td>NaN</td>\n",
       "      <td>0.0</td>\n",
       "      <td>0.0</td>\n",
       "      <td>0.0</td>\n",
       "      <td>0.0</td>\n",
       "      <td>...</td>\n",
       "      <td>0.0</td>\n",
       "      <td>0.0</td>\n",
       "      <td>0.0</td>\n",
       "      <td>0.0</td>\n",
       "      <td>0.0</td>\n",
       "      <td>0.0</td>\n",
       "      <td>0.0</td>\n",
       "      <td>0.0</td>\n",
       "      <td>0.0</td>\n",
       "      <td>0.0</td>\n",
       "    </tr>\n",
       "    <tr>\n",
       "      <th>4</th>\n",
       "      <td>Spinach Noodle Casserole</td>\n",
       "      <td>3.125</td>\n",
       "      <td>547.0</td>\n",
       "      <td>20.0</td>\n",
       "      <td>32.0</td>\n",
       "      <td>452.0</td>\n",
       "      <td>0.0</td>\n",
       "      <td>0.0</td>\n",
       "      <td>0.0</td>\n",
       "      <td>0.0</td>\n",
       "      <td>...</td>\n",
       "      <td>0.0</td>\n",
       "      <td>0.0</td>\n",
       "      <td>0.0</td>\n",
       "      <td>0.0</td>\n",
       "      <td>0.0</td>\n",
       "      <td>0.0</td>\n",
       "      <td>0.0</td>\n",
       "      <td>0.0</td>\n",
       "      <td>0.0</td>\n",
       "      <td>0.0</td>\n",
       "    </tr>\n",
       "  </tbody>\n",
       "</table>\n",
       "<p>5 rows × 680 columns</p>\n",
       "</div>"
      ],
      "text/plain": [
       "                                         title  rating  calories  protein  \\\n",
       "0              Lentil, Apple, and Turkey Wrap    2.500     426.0     30.0   \n",
       "1  Boudin Blanc Terrine with Red Onion Confit    4.375     403.0     18.0   \n",
       "2                Potato and Fennel Soup Hodge    3.750     165.0      6.0   \n",
       "3             Mahi-Mahi in Tomato Olive Sauce    5.000       NaN      NaN   \n",
       "4                    Spinach Noodle Casserole    3.125     547.0     20.0   \n",
       "\n",
       "    fat  sodium  #cakeweek  #wasteless  22-minute meals  3-ingredient recipes  \\\n",
       "0   7.0   559.0        0.0         0.0              0.0                   0.0   \n",
       "1  23.0  1439.0        0.0         0.0              0.0                   0.0   \n",
       "2   7.0   165.0        0.0         0.0              0.0                   0.0   \n",
       "3   NaN     NaN        0.0         0.0              0.0                   0.0   \n",
       "4  32.0   452.0        0.0         0.0              0.0                   0.0   \n",
       "\n",
       "   ...  yellow squash  yogurt  yonkers  yuca  zucchini  cookbooks  leftovers  \\\n",
       "0  ...            0.0     0.0      0.0   0.0       0.0        0.0        0.0   \n",
       "1  ...            0.0     0.0      0.0   0.0       0.0        0.0        0.0   \n",
       "2  ...            0.0     0.0      0.0   0.0       0.0        0.0        0.0   \n",
       "3  ...            0.0     0.0      0.0   0.0       0.0        0.0        0.0   \n",
       "4  ...            0.0     0.0      0.0   0.0       0.0        0.0        0.0   \n",
       "\n",
       "   snack  snack week  turkey  \n",
       "0    0.0         0.0     1.0  \n",
       "1    0.0         0.0     0.0  \n",
       "2    0.0         0.0     0.0  \n",
       "3    0.0         0.0     0.0  \n",
       "4    0.0         0.0     0.0  \n",
       "\n",
       "[5 rows x 680 columns]"
      ]
     },
     "execution_count": 6,
     "metadata": {},
     "output_type": "execute_result"
    }
   ],
   "source": [
    "#data view - what is included in file?\n",
    "epi.head()"
   ]
  },
  {
   "cell_type": "code",
   "execution_count": 10,
   "id": "fc6b142f",
   "metadata": {
    "scrolled": true
   },
   "outputs": [
    {
     "name": "stdout",
     "output_type": "stream",
     "text": [
      "<class 'pandas.core.frame.DataFrame'>\n",
      "RangeIndex: 20052 entries, 0 to 20051\n",
      "Columns: 680 entries, title to turkey\n",
      "dtypes: float64(679), object(1)\n",
      "memory usage: 104.0+ MB\n"
     ]
    }
   ],
   "source": [
    "#the file include many columns which are not visible. To check\n",
    "# how many is empty; what are details, translation, what is the matrix size\n",
    "epi.info()"
   ]
  },
  {
   "cell_type": "code",
   "execution_count": 14,
   "id": "7e6cd9b8",
   "metadata": {},
   "outputs": [
    {
     "name": "stdout",
     "output_type": "stream",
     "text": [
      "['title', 'rating', 'calories', 'protein', 'fat', 'sodium', '#cakeweek', '#wasteless']\n",
      "['22-minute meals', '3-ingredient recipes', '30 days of groceries', 'advance prep required', 'alabama', 'alaska', 'alcoholic', 'almond']\n",
      "['amaretto', 'anchovy', 'anise', 'anniversary', 'anthony bourdain', 'aperitif', 'appetizer', 'apple']\n",
      "['apple juice', 'apricot', 'arizona', 'artichoke', 'arugula', 'asian pear', 'asparagus', 'aspen']\n",
      "['atlanta', 'australia', 'avocado', 'back to school', 'backyard bbq', 'bacon', 'bake', 'banana']\n",
      "['barley', 'basil', 'bass', 'bastille day', 'bean', 'beef', 'beef rib', 'beef shank']\n",
      "['beef tenderloin', 'beer', 'beet', 'bell pepper', 'berry', 'beverly hills', 'birthday', 'biscuit']\n",
      "['bitters', 'blackberry', 'blender', 'blue cheese', 'blueberry', 'boil', 'bok choy', 'bon appétit']\n",
      "['bon app��tit', 'boston', 'bourbon', 'braise', 'bran', 'brandy', 'bread', 'breadcrumbs']\n",
      "['breakfast', 'brie', 'brine', 'brisket', 'broccoli', 'broccoli rabe', 'broil', 'brooklyn']\n",
      "['brown rice', 'brownie', 'brunch', 'brussel sprout', 'buffalo', 'buffet', 'bulgaria', 'bulgur']\n",
      "['burrito', 'butter', 'buttermilk', 'butternut squash', 'butterscotch/caramel', 'cabbage', 'cake', 'california']\n",
      "['calvados', 'cambridge', 'campari', 'camping', 'canada', 'candy', 'candy thermometer', 'cantaloupe']\n",
      "['capers', 'caraway', 'cardamom', 'carrot', 'cashew', 'casserole/gratin', 'cauliflower', 'caviar']\n",
      "['celery', 'chambord', 'champagne', 'chard', 'chartreuse', 'cheddar', 'cheese', 'cherry']\n",
      "['chestnut', 'chicago', 'chicken', 'chickpea', 'chile', 'chile pepper', 'chili', 'chill']\n",
      "['chive', 'chocolate', 'christmas', 'christmas eve', 'cilantro', 'cinco de mayo', 'cinnamon', 'citrus']\n",
      "['clam', 'clove', 'cobbler/crumble', 'cocktail', 'cocktail party', 'coconut', 'cod', 'coffee']\n",
      "['coffee grinder', 'cognac/armagnac', 'collard greens', 'colorado', 'columbus', 'condiment', 'condiment/spread', 'connecticut']\n",
      "['cook like a diner', 'cookbook critic', 'cookie', 'cookies', 'coriander', 'corn', 'cornmeal', 'costa mesa']\n",
      "['cottage cheese', 'couscous', 'crab', 'cranberry', 'cranberry sauce', 'cream cheese', 'créme de cacao', 'crêpe']\n",
      "['cr��me de cacao', 'cuba', 'cucumber', 'cumin', 'cupcake', 'currant', 'curry', 'custard']\n",
      "['dairy', 'dairy free', 'dallas', 'date', 'deep-fry', 'denver', 'dessert', 'digestif']\n",
      "['dill', 'dinner', 'dip', 'diwali', 'dominican republic', 'dorie greenspan', 'double boiler', 'dried fruit']\n",
      "['drink', 'drinks', 'duck', 'easter', 'eau de vie', 'edible gift', 'egg', 'egg nog']\n",
      "['eggplant', 'egypt', 'emeril lagasse', 'endive', 'engagement party', 'england', 'entertaining', 'epi + ushg']\n",
      "['epi loves the microwave', 'escarole', 'fall', 'family reunion', 'fat free', \"father's day\", 'fennel', 'feta']\n",
      "['fig', 'fish', 'flaming hot summer', 'flat bread', 'florida', 'fontina', 'food processor', 'fortified wine']\n",
      "['fourth of july', 'france', 'frangelico', 'frankenrecipe', 'freeze/chill', 'freezer food', 'friendsgiving', 'frittata']\n",
      "['fritter', 'frozen dessert', 'fruit', 'fruit juice', 'fry', 'game', 'garlic', 'georgia']\n",
      "['germany', 'gin', 'ginger', 'goat cheese', 'goose', 'gouda', 'gourmet', 'graduation']\n",
      "['grains', 'grand marnier', 'granola', 'grape', 'grapefruit', 'grappa', 'green bean', 'green onion/scallion']\n",
      "['grill', 'grill/barbecue', 'ground beef', 'ground lamb', 'guam', 'guava', 'haiti', 'halibut']\n",
      "['halloween', 'ham', 'hamburger', 'hanukkah', 'harpercollins', 'hawaii', 'hazelnut', 'healdsburg']\n",
      "['healthy', 'herb', 'high fiber', 'hollywood', 'hominy/cornmeal/masa', 'honey', 'honeydew', \"hors d'oeuvre\"]\n",
      "['horseradish', 'hot drink', 'hot pepper', 'house & garden', 'house cocktail', 'houston', 'hummus', 'ice cream']\n",
      "['ice cream machine', 'iced coffee', 'iced tea', 'idaho', 'illinois', 'indiana', 'iowa', 'ireland']\n",
      "['israel', 'italy', 'jalapeño', 'jam or jelly', 'jamaica', 'japan', 'jerusalem artichoke', 'juicer']\n",
      "['jícama', 'kahlúa', 'kale', 'kansas', 'kansas city', 'kentucky', 'kentucky derby', 'kid-friendly']\n",
      "['kidney friendly', 'kirsch', 'kitchen olympics', 'kiwi', 'kosher', 'kosher for passover', 'kumquat', 'kwanzaa']\n",
      "['labor day', 'lamb', 'lamb chop', 'lamb shank', 'lancaster', 'las vegas', 'lasagna', 'leafy green']\n",
      "['leek', 'legume', 'lemon', 'lemon juice', 'lemongrass', 'lentil', 'lettuce', 'lima bean']\n",
      "['lime', 'lime juice', 'lingonberry', 'liqueur', 'lobster', 'london', 'long beach', 'los angeles']\n",
      "['louisiana', 'louisville', 'low cal', 'low carb', 'low cholesterol', 'low fat', 'low sodium', 'low sugar']\n",
      "['low/no sugar', 'lunar new year', 'lunch', 'lychee', 'macadamia nut', 'macaroni and cheese', 'maine', 'mandoline']\n",
      "['mango', 'maple syrup', 'mardi gras', 'margarita', 'marinade', 'marinate', 'marsala', 'marscarpone']\n",
      "['marshmallow', 'martini', 'maryland', 'massachusetts', 'mayonnaise', 'meat', 'meatball', 'meatloaf']\n",
      "['melon', 'mexico', 'mezcal', 'miami', 'michigan', 'microwave', 'midori', 'milk/cream']\n",
      "['minneapolis', 'minnesota', 'mint', 'mississippi', 'missouri', 'mixer', 'molasses', 'monterey jack']\n",
      "['mortar and pestle', \"mother's day\", 'mozzarella', 'muffin', 'mushroom', 'mussel', 'mustard', 'mustard greens']\n",
      "['nancy silverton', 'nebraska', 'nectarine', 'new hampshire', 'new jersey', 'new mexico', 'new orleans', \"new year's day\"]\n",
      "[\"new year's eve\", 'new york', 'no meat, no problem', 'no sugar added', 'no-cook', 'non-alcoholic', 'noodle', 'north carolina']\n",
      "['nut', 'nutmeg', 'oat', 'oatmeal', 'octopus', 'ohio', 'oklahoma', 'okra']\n",
      "['oktoberfest', 'olive', 'omelet', 'one-pot meal', 'onion', 'orange', 'orange juice', 'oregano']\n",
      "['oregon', 'organic', 'orzo', 'oscars', 'oyster', 'pacific palisades', 'paleo', 'pan-fry']\n",
      "['pancake', 'papaya', 'paprika', 'parade', 'paris', 'parmesan', 'parsley', 'parsnip']\n",
      "['party', 'pasadena', 'passion fruit', 'passover', 'pasta', 'pasta maker', 'pastry', 'pea']\n",
      "['peach', 'peanut', 'peanut butter', 'peanut free', 'pear', 'pecan', 'pennsylvania', 'pepper']\n",
      "['pernod', 'persian new year', 'persimmon', 'peru', 'pescatarian', 'philippines', 'phyllo/puff pastry dough', 'pickles']\n",
      "['picnic', 'pie', 'pine nut', 'pineapple', 'pistachio', 'pittsburgh', 'pizza', 'plantain']\n",
      "['plum', 'poach', 'poblano', 'poker/game night', 'pomegranate', 'pomegranate juice', 'poppy', 'pork']\n",
      "['pork chop', 'pork rib', 'pork tenderloin', 'port', 'portland', 'pot pie', 'potato', 'potato salad']\n",
      "['potluck', 'poultry', 'poultry sausage', 'pressure cooker', 'prosciutto', 'providence', 'prune', 'pumpkin']\n",
      "['punch', 'purim', 'quail', 'quiche', 'quick & easy', 'quick and healthy', 'quince', 'quinoa']\n",
      "['rabbit', 'rack of lamb', 'radicchio', 'radish', 'raisin', 'ramadan', 'ramekin', 'raspberry']\n",
      "['raw', 'red wine', 'rhode island', 'rhubarb', 'rice', 'ricotta', 'roast', 'root vegetable']\n",
      "['rosemary', 'rosh hashanah/yom kippur', 'rosé', 'rub', 'rum', 'rutabaga', 'rye', 'saffron']\n",
      "['sage', 'sake', 'salad', 'salad dressing', 'salmon', 'salsa', 'san francisco', 'sandwich']\n",
      "['sandwich theory', 'sangria', 'santa monica', 'sardine', 'sauce', 'sausage', 'sauté', 'scallop']\n",
      "['scotch', 'seafood', 'seattle', 'seed', 'self', 'semolina', 'sesame', 'sesame oil']\n",
      "['shallot', 'shavuot', 'shellfish', 'sherry', 'shower', 'shrimp', 'side', 'simmer']\n",
      "['skewer', 'slow cooker', 'smoker', 'smoothie', 'snapper', 'sorbet', 'soufflé/meringue', 'soup/stew']\n",
      "['sour cream', 'sourdough', 'south carolina', 'soy', 'soy free', 'soy sauce', 'spain', 'sparkling wine']\n",
      "['spice', 'spinach', 'spirit', 'spring', 'spritzer', 'squash', 'squid', 'st. louis']\n",
      "[\"st. patrick's day\", 'steak', 'steam', 'stew', 'stir-fry', 'stock', 'strawberry', 'stuffing/dressing']\n",
      "['sugar conscious', 'sugar snap pea', 'sukkot', 'summer', 'super bowl', 'suzanne goin', 'sweet potato/yam', 'swiss cheese']\n",
      "['switzerland', 'swordfish', 'taco', 'tailgating', 'tamarind', 'tangerine', 'tapioca', 'tarragon']\n",
      "['tart', 'tea', 'tennessee', 'tequila', 'tested & improved', 'texas', 'thanksgiving', 'thyme']\n",
      "['tilapia', 'tofu', 'tomatillo', 'tomato', 'tortillas', 'tree nut', 'tree nut free', 'triple sec']\n",
      "['tropical fruit', 'trout', 'tuna', 'turnip', 'utah', \"valentine's day\", 'vanilla', 'veal']\n",
      "['vegan', 'vegetable', 'vegetarian', 'venison', 'vermont', 'vermouth', 'vinegar', 'virginia']\n",
      "['vodka', 'waffle', 'walnut', 'wasabi', 'washington', 'washington, d.c.', 'watercress', 'watermelon']\n",
      "['wedding', 'weelicious', 'west virginia', 'westwood', 'wheat/gluten-free', 'whiskey', 'white wine', 'whole wheat']\n",
      "['wild rice', 'windsor', 'wine', 'winter', 'wisconsin', 'wok', 'yellow squash', 'yogurt']\n",
      "['yonkers', 'yuca', 'zucchini', 'cookbooks', 'leftovers', 'snack', 'snack week', 'turkey']\n"
     ]
    }
   ],
   "source": [
    "column_names = epi.columns.tolist()\n",
    "for i in range(0, len(column_names), 8):\n",
    "    print(column_names[i:i+8])"
   ]
  },
  {
   "cell_type": "code",
   "execution_count": 15,
   "id": "75a2b289",
   "metadata": {},
   "outputs": [
    {
     "name": "stdout",
     "output_type": "stream",
     "text": [
      "title         False\n",
      "rating        False\n",
      "calories       True\n",
      "protein        True\n",
      "fat            True\n",
      "              ...  \n",
      "cookbooks     False\n",
      "leftovers     False\n",
      "snack         False\n",
      "snack week    False\n",
      "turkey        False\n",
      "Length: 680, dtype: bool\n"
     ]
    }
   ],
   "source": [
    "#any_null = epi.isnull().any(axis=0)\n",
    "#print(any_null)"
   ]
  },
  {
   "cell_type": "code",
   "execution_count": 17,
   "id": "7a9bb669",
   "metadata": {},
   "outputs": [
    {
     "name": "stdout",
     "output_type": "stream",
     "text": [
      "title         False\n",
      "rating        False\n",
      "calories      False\n",
      "protein       False\n",
      "fat           False\n",
      "              ...  \n",
      "cookbooks     False\n",
      "leftovers     False\n",
      "snack         False\n",
      "snack week    False\n",
      "turkey        False\n",
      "Length: 680, dtype: bool\n"
     ]
    }
   ],
   "source": [
    "#all_zeros = epi.eq(0).all(axis=0)\n",
    "#print(all_zeros)"
   ]
  },
  {
   "cell_type": "markdown",
   "id": "b3fc6ee7",
   "metadata": {},
   "source": [
    "3. Wstępne zapoznanie się z przedstawioną bazą danych\n",
    "   • Zapoznanie się z pobraną bazą danych (podłączenie się do niej przez Pythona z użyciem znanych pakietów pandas, numpy)\n",
    "   • Przygotowanie danych, a w tym:\n",
    "        * Podział na cechy numeryczne, kategoryczne\n",
    "        * Przygotowanie danych (pozbycie się lub transformacja wartości niekompletnych)\n",
    "        * Agregacja niezbędnych informacji\n",
    "        * Czyszczenie danych\n",
    "        * Transformacja, dyskretyzacja, skalowanie, grupowanie itp. – użyj to, czego dotyczy Twoje zagadnienie\n",
    "    • Wyświetlenie podstawowych statystyk (średnia, odchylenie standardowe, mediana) przydatnych do analizy problemu"
   ]
  },
  {
   "cell_type": "code",
   "execution_count": null,
   "id": "7dd2648d",
   "metadata": {},
   "outputs": [],
   "source": []
  },
  {
   "cell_type": "markdown",
   "id": "7fd4e7dd",
   "metadata": {},
   "source": [
    "4. Podsumowanie kroku 2. i 3. oraz dokładne opisanie i przedstawienie hipotez, które będą rozwiązywane\n",
    "    • Zebranie wyników z punktu 3. i wiedzy z punktu 2.\n",
    "    • Opis tego, co zamierzamy zrobić wykorzystując zdobyte informacje\n",
    "    • Opis czego nie możemy zrobić na danej bazie danych z uwagi np. na brak informacji, zbyt dużo wartości odstających\n",
    "    • Podanie kilku algorytmów/modeli uczenia maszynowego rozwiązujących problemy regresji, który będziemy chcieli użyć w tym projekcie"
   ]
  },
  {
   "cell_type": "code",
   "execution_count": null,
   "id": "75d7abe0",
   "metadata": {},
   "outputs": [],
   "source": []
  },
  {
   "cell_type": "markdown",
   "id": "40067c51",
   "metadata": {},
   "source": [
    "5. Analiza, wizualizacja danych oraz przeprowadzenie analizy statystycznej w języku Python\n",
    "Skoro już wiemy co będziemy analizować musimy dokładniej opisać dane za pomocą:\n",
    "• Wykresów:\n",
    "    ✔ Wykresy liniowe, histogramy opisujące zależności między pojedynczymi zmiennymi\n",
    "    ✔ Wykresy opisujące zależności między zmiennymi (Q-Q plot, wykres punktów, mapy ciepła, wykresy słupkowe)\n",
    "    ✔ Wykresy zmienności w czasie (wykres liniowy)\n",
    "    ✔ Zaawansowana wizualizacja z wykorzystaniem plotly lub seaborn"
   ]
  },
  {
   "cell_type": "code",
   "execution_count": null,
   "id": "fbfeca6c",
   "metadata": {},
   "outputs": [],
   "source": []
  },
  {
   "cell_type": "markdown",
   "id": "deefd5c9",
   "metadata": {},
   "source": [
    "6. Użycie i przetestowanie różnych algorytmów regresji do analizy problemów liniowych i nieliniowych\n",
    "• Wykorzystując wszystkie informacje dotyczące danego problemu, które zgromadziliśmy, a szczególnie opis danych z poprzedniego punktu, zaproponować 3 algorytmy które będą implementowane\n",
    "• Implementacja algorytmów regresji liniowej (1 i wielu zmiennych), wielomianowej oraz drzewa decyzyjnego\n",
    "• Zadbanie o minimalizację funkcji kosztu, jeżeli trzeba to z użyciem gradient descent lub innej wbudowanej funkcji w pakiecie sklearn\n",
    "• Wyświetlenie wartości funkcji kosztu na wykresie dla 10 i 20 iteracji oraz wag algorytmu\n",
    "• Predykcja algorytmu dla 3 losowych wartości spoza zbioru danych"
   ]
  },
  {
   "cell_type": "code",
   "execution_count": null,
   "id": "35903f7b",
   "metadata": {},
   "outputs": [],
   "source": []
  },
  {
   "cell_type": "markdown",
   "id": "c174a7bf",
   "metadata": {},
   "source": [
    "7A. Ocena działania algorytmu\n",
    "• Podział danych na zbiór treningowy i walidacyjny\n",
    "• Zastosowanie walidacji krzyżowej i leave-one-out (przetasować zbiór tak, aby \n",
    "zawsze zaczynać od innego miejsca w danych)\n",
    "• Ocenić skuteczność modeli (współczynnik determinacji, 2 metody błędu \n",
    "prognozy)\n",
    "• Rozwiązanie problemu z przetrenowaniem lub niedotrenowaniem algorytmu\n",
    "• Znalezienie złotego środka między obciążeniem a wariancją, najlepiej \n",
    "pokazując to na wykresie"
   ]
  },
  {
   "cell_type": "code",
   "execution_count": null,
   "id": "a5719f82",
   "metadata": {},
   "outputs": [],
   "source": []
  },
  {
   "cell_type": "markdown",
   "id": "dee20f47",
   "metadata": {},
   "source": [
    "7B. Wyjaśnienie dlaczego użyty został akurat \n",
    "ten algorytm\n",
    "• Wyciągając wnioski z poprzednich punktów opowiedzieć maksymalnie \n",
    "na 1-2 slajdach dlaczego użyliśmy akurat tego modelu, mając na \n",
    "uwadze:\n",
    "- problemy liniowe i nieliniowe\n",
    "- wpływ statystyk takich jak korelacja na zmienne\n",
    "- wartości odstające\n",
    "- wagi algorytmu\n",
    "- ocena skuteczności jego działania\n",
    "- zdolności predykcyjne"
   ]
  },
  {
   "cell_type": "code",
   "execution_count": null,
   "id": "d8349d0e",
   "metadata": {},
   "outputs": [],
   "source": []
  },
  {
   "cell_type": "markdown",
   "id": "c78bfc01",
   "metadata": {},
   "source": [
    "8. Propozycja jego użycia\n",
    "• Maksymalnie na 1-2 slajdach odpowiedzieć na pytania:\n",
    "    Jaki problem jesteśmy w stanie rozwiązać używając naszego algorytmu?\n",
    "    Jak możemy go użyć? Z użyciem jakich narzędzi przekazywać komuś do \n",
    "    użycia?\n",
    "    Jak interpretować wyniki algorytmu?\n",
    "    Jak interpretować wyniki skuteczności algorytmu?\n",
    "    Jak możemy go ulepszyć w przyszłości?"
   ]
  },
  {
   "cell_type": "code",
   "execution_count": null,
   "id": "bd3b5633",
   "metadata": {},
   "outputs": [],
   "source": []
  },
  {
   "cell_type": "markdown",
   "id": "cbd69511",
   "metadata": {},
   "source": [
    "PODSUMOWANIE\n",
    "1. Określenie trudności podczas pracy w zespole wirtualnym.\n",
    "2. Określenie, która część sprawiła najwięcej problemów.\n",
    "3. Wskazanie tematów, które wymagają uzupełnienia lub powtórzenia zagadnień.\n",
    "4. Czy sposób przeprowadzenia projektu rozwija uczestników i sprawia, że lepiej rozumieją problem, który poznawali na zajęciach?\n",
    "5. Czy sposób przeprowadzenia projektu może być pomocny przy przyszłych zagadnieniach"
   ]
  },
  {
   "cell_type": "markdown",
   "id": "37826369",
   "metadata": {},
   "source": [
    "Ad 1. Problemy komunikacyjne zwiazane z komunikacją asynchroniczną, Czyli odczytanie inaczej intencji autora\n",
    "Ad 2. Plik epik to macierz o bardzo dużych rozmiarach (680 na 20058). Sprawia to problem z wyświetleniem danych\n",
    "    Nie było jasne co należy zrobić z danymi -> jaki wynik uzyskać.\n",
    "Ad 3. GIT. \n",
    "Ad 4. Pytanie retoryczne.\n",
    "Ad 5. Pytanie retoryczne.\n",
    "\n"
   ]
  }
 ],
 "metadata": {
  "kernelspec": {
   "display_name": "Python 3 (ipykernel)",
   "language": "python",
   "name": "python3"
  },
  "language_info": {
   "codemirror_mode": {
    "name": "ipython",
    "version": 3
   },
   "file_extension": ".py",
   "mimetype": "text/x-python",
   "name": "python",
   "nbconvert_exporter": "python",
   "pygments_lexer": "ipython3",
   "version": "3.10.9"
  }
 },
 "nbformat": 4,
 "nbformat_minor": 5
}
